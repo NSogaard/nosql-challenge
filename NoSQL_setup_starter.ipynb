{
 "cells": [
  {
   "cell_type": "markdown",
   "id": "9a57c4c6",
   "metadata": {},
   "source": [
    "# Eat Safe, Love"
   ]
  },
  {
   "cell_type": "markdown",
   "id": "064ef857",
   "metadata": {},
   "source": [
    "## Part 1: Database and Jupyter Notebook Set Up"
   ]
  },
  {
   "cell_type": "markdown",
   "id": "664e3c1f",
   "metadata": {},
   "source": [
    "Import the data provided in the `establishments.json` file from your Terminal. Name the database `uk_food` and the collection `establishments`.\n",
    "\n",
    "Within this markdown cell, copy the line of text you used to import the data from your Terminal. This way, future analysts will be able to repeat your process.\n",
    "\n",
    "e.g.: Import the dataset with `mongoimport --type json -d uk_food -c establishments --drop --jsonArray ./Resources/establishments.json`"
   ]
  },
  {
   "cell_type": "code",
   "execution_count": 1,
   "id": "3ecdd008",
   "metadata": {},
   "outputs": [],
   "source": [
    "# Import dependencies\n",
    "from pymongo import MongoClient\n",
    "from pprint import pprint"
   ]
  },
  {
   "cell_type": "code",
   "execution_count": 2,
   "id": "59390c4a",
   "metadata": {},
   "outputs": [],
   "source": [
    "# Create an instance of MongoClient\n",
    "mongo = MongoClient(port=27017)"
   ]
  },
  {
   "cell_type": "code",
   "execution_count": null,
   "id": "7f9ececa",
   "metadata": {},
   "outputs": [
    {
     "name": "stdout",
     "output_type": "stream",
     "text": [
      "['admin', 'classDB', 'config', 'fruits_db', 'local', 'uk_food']\n",
      "Does the 'uk_food' database appear in our instance of Mongo? - True\n"
     ]
    }
   ],
   "source": [
    "# confirm that our new database was created\n",
    "# Getting all of the databases in our instance of MongoDB\n",
    "dbs = mongo.list_database_names()\n",
    "\n",
    "# This is a boolean that is set to a True if our instance of MongoDB contains a database named \"uk_food\"\n",
    "contains_db = dbs.count(\"uk_food\") > 0\n",
    "\n",
    "# Printing out a list containing the names of all of the databases in our instance of MongoDB\n",
    "print(dbs)\n",
    "\n",
    "# This print statement will end with a 'True' value if \"uk_food\" is a database in our instance of MongoDB (this confirms that our new database \"uk_food\" was created)\n",
    "print(f\"Does the 'uk_food' database appear in our instance of Mongo? - {contains_db}\")"
   ]
  },
  {
   "cell_type": "code",
   "execution_count": 4,
   "id": "71e373c1",
   "metadata": {},
   "outputs": [],
   "source": [
    "# assign the uk_food database to a variable name\n",
    "db = mongo['uk_food']"
   ]
  },
  {
   "cell_type": "code",
   "execution_count": 6,
   "id": "ef1b89ed",
   "metadata": {},
   "outputs": [
    {
     "name": "stdout",
     "output_type": "stream",
     "text": [
      "['establishments']\n",
      "Does the 'establishments' collection appear in our instance of the 'uk_food' database? - True\n"
     ]
    }
   ],
   "source": [
    "# review the collections in our new database\n",
    "# Getting a list of the names of all of the collections contained in our new \"uk_food\" database\n",
    "collections = db.list_collection_names()\n",
    "\n",
    "# This is a boolean that is set to a True value if our \"uk_food\" database contains the \"establishments\" collection\n",
    "contains_collection = collections.count(\"establishments\") > 0\n",
    "\n",
    "# Printing out a list containing the names of all of the databases in our \"uk_food\" database\n",
    "print(collections)\n",
    "\n",
    "# This print statement will end with a 'True' value if \"establishment\" is a collection in our \"uk_food\" database (this confirms that our new collection \"establishments\" was created)\n",
    "print(f\"Does the 'establishments' collection appear in our instance of the 'uk_food' database? - {contains_collection}\")"
   ]
  },
  {
   "cell_type": "code",
   "execution_count": 7,
   "id": "e78ccbf8",
   "metadata": {},
   "outputs": [],
   "source": [
    "# assign the establishments collection to a variable name\n",
    "estab = db['establishments']"
   ]
  },
  {
   "cell_type": "code",
   "execution_count": 8,
   "id": "6a0d92df",
   "metadata": {},
   "outputs": [
    {
     "name": "stdout",
     "output_type": "stream",
     "text": [
      "{'AddressLine1': 'Reach Court Farm',\n",
      " 'AddressLine2': 'Reach Road',\n",
      " 'AddressLine3': 'St Margarets At Cliffe',\n",
      " 'AddressLine4': 'Kent',\n",
      " 'BusinessName': 'The Barn',\n",
      " 'BusinessType': 'Restaurant/Cafe/Canteen',\n",
      " 'BusinessTypeID': 1,\n",
      " 'ChangesByServerID': 0,\n",
      " 'Distance': 4587.77622109052,\n",
      " 'FHRSID': 429982,\n",
      " 'LocalAuthorityBusinessID': 'PI/000043978',\n",
      " 'LocalAuthorityCode': '182',\n",
      " 'LocalAuthorityEmailAddress': 'publicprotection@dover.gov.uk',\n",
      " 'LocalAuthorityName': 'Dover',\n",
      " 'LocalAuthorityWebSite': 'http://www.dover.gov.uk/',\n",
      " 'NewRatingPending': False,\n",
      " 'Phone': '',\n",
      " 'PostCode': 'CT15 6AQ',\n",
      " 'RatingDate': '2017-09-21T00:00:00',\n",
      " 'RatingKey': 'fhrs_5_en-gb',\n",
      " 'RatingValue': '5',\n",
      " 'RightToReply': '',\n",
      " 'SchemeType': 'FHRS',\n",
      " '_id': ObjectId('672d1cdb4224ba1cf5a0b175'),\n",
      " 'geocode': {'latitude': '51.147379', 'longitude': '1.371115'},\n",
      " 'links': [{'href': 'https://api.ratings.food.gov.uk/establishments/429982',\n",
      "            'rel': 'self'}],\n",
      " 'meta': {'dataSource': None,\n",
      "          'extractDate': '0001-01-01T00:00:00',\n",
      "          'itemCount': 0,\n",
      "          'pageNumber': 0,\n",
      "          'pageSize': 0,\n",
      "          'returncode': None,\n",
      "          'totalCount': 0,\n",
      "          'totalPages': 0},\n",
      " 'scores': {'ConfidenceInManagement': 5, 'Hygiene': 5, 'Structural': 5}}\n"
     ]
    }
   ],
   "source": [
    "# review a document in the establishments collection\n",
    "# Finding the first document in the 'establishments' collection of the 'uk_food' database \n",
    "document_example = estab.find_one()\n",
    "\n",
    "# Printing the document found above\n",
    "pprint(document_example)"
   ]
  },
  {
   "cell_type": "markdown",
   "id": "d5671434",
   "metadata": {},
   "source": [
    "## Part 2: Update the Database"
   ]
  },
  {
   "cell_type": "markdown",
   "id": "314bd884",
   "metadata": {},
   "source": [
    "1. An exciting new halal restaurant just opened in Greenwich, but hasn't been rated yet. The magazine has asked you to include it in your analysis. Add the following restaurant \"Penang Flavours\" to the database."
   ]
  },
  {
   "cell_type": "code",
   "execution_count": 9,
   "id": "c2da7648",
   "metadata": {},
   "outputs": [],
   "source": [
    "# Create a dictionary for the new restaurant data\n",
    "# This data was pulled from the JSON file given to us by the assignment\n",
    "penang_flavors_dict = {\n",
    "    \"BusinessName\":\"Penang Flavours\",\n",
    "    \"BusinessType\":\"Restaurant/Cafe/Canteen\",\n",
    "    \"BusinessTypeID\":\"\",\n",
    "    \"AddressLine1\":\"Penang Flavours\",\n",
    "    \"AddressLine2\":\"146A Plumstead Rd\",\n",
    "    \"AddressLine3\":\"London\",\n",
    "    \"AddressLine4\":\"\",\n",
    "    \"PostCode\":\"SE18 7DY\",\n",
    "    \"Phone\":\"\",\n",
    "    \"LocalAuthorityCode\":\"511\",\n",
    "    \"LocalAuthorityName\":\"Greenwich\",\n",
    "    \"LocalAuthorityWebSite\":\"http://www.royalgreenwich.gov.uk\",\n",
    "    \"LocalAuthorityEmailAddress\":\"health@royalgreenwich.gov.uk\",\n",
    "    \"scores\":{\n",
    "        \"Hygiene\":\"\",\n",
    "        \"Structural\":\"\",\n",
    "        \"ConfidenceInManagement\":\"\"\n",
    "    },\n",
    "    \"SchemeType\":\"FHRS\",\n",
    "    \"geocode\":{\n",
    "        \"longitude\":\"0.08384000\",\n",
    "        \"latitude\":\"51.49014200\"\n",
    "    },\n",
    "    \"RightToReply\":\"\",\n",
    "    \"Distance\":4623.9723280747176,\n",
    "    \"NewRatingPending\":True\n",
    "}"
   ]
  },
  {
   "cell_type": "code",
   "execution_count": 10,
   "id": "a6e5cece",
   "metadata": {},
   "outputs": [
    {
     "data": {
      "text/plain": [
       "InsertOneResult(ObjectId('672d1e6886e00e2c32d91de4'), acknowledged=True)"
      ]
     },
     "execution_count": 10,
     "metadata": {},
     "output_type": "execute_result"
    }
   ],
   "source": [
    "# Insert the new restaurant into the collection\n",
    "estab.insert_one(penang_flavors_dict)"
   ]
  },
  {
   "cell_type": "code",
   "execution_count": 12,
   "id": "63bb10f9",
   "metadata": {},
   "outputs": [
    {
     "name": "stdout",
     "output_type": "stream",
     "text": [
      "The collection does contain the 'Penang Flavours' - True\n"
     ]
    }
   ],
   "source": [
    "# Check that the new restaurant was inserted\n",
    "# Creating a query that finds all businesses that have the name \"Penang Flavours\" (There is only one restaurant with this name, and we just created it)\n",
    "confirmation_query = {\"BusinessName\" : \"Penang Flavours\"}\n",
    "\n",
    "# Applying the above defined query, then checking to see if the result has the same value as the dict we created above\n",
    "has_penang_flavors = estab.find_one(confirmation_query) == penang_flavors_dict\n",
    "\n",
    "# If this print statement ends with a \"True\" value, the \"Penang Flavours\" restaurant was inserted correctly\n",
    "print(f\"The collection does contain the 'Penang Flavours' - {has_penang_flavors}\")"
   ]
  },
  {
   "cell_type": "markdown",
   "id": "0ef4395a",
   "metadata": {},
   "source": [
    "2. Find the BusinessTypeID for \"Restaurant/Cafe/Canteen\" and return only the `BusinessTypeID` and `BusinessType` fields."
   ]
  },
  {
   "cell_type": "code",
   "execution_count": 13,
   "id": "93c63829",
   "metadata": {},
   "outputs": [
    {
     "name": "stdout",
     "output_type": "stream",
     "text": [
      "The 'BusinessTypeID' for the 'Restaurants/Cafe/Canteen' 'BusinessType' is 1\n"
     ]
    }
   ],
   "source": [
    "# Find the BusinessTypeID for \"Restaurant/Cafe/Canteen\" and return only the BusinessTypeID and BusinessType fields\n",
    "# A query that only pulls documents that have the \"BusinessType\" field set to \"Restaurants/Cafe/Canteen\"\n",
    "rcf_businessid_query = {\"BusinessType\" : \"Restaurant/Cafe/Canteen\"}\n",
    "# This dict just stores which fields we want to return (\"BusinessTypeID\" & \"BusinessType\")\n",
    "rcf_businessid_fields = {\"BusinessType\" : 1, \"BusinessTypeID\" : 1}\n",
    "\n",
    "# This runs a query on the 'establishments' database using the query and fields defined above and returns the first document\n",
    "rcf_businessid_query_results = estab.find_one(rcf_businessid_query, rcf_businessid_fields)\n",
    "\n",
    "# This pulls the \"BusinessTypeID\" value from the document found above. This value should be shared across all businesses with the same 'BusinessType'\n",
    "rcf_business_type_id = rcf_businessid_query_results[\"BusinessTypeID\"]\n",
    "\n",
    "# This print statement prints out what the \"BusinessTypeID\" is for the \"BusinessType\" \"Restaurants/Cafe/Canteen\"\n",
    "print(f\"The 'BusinessTypeID' for the 'Restaurants/Cafe/Canteen' 'BusinessType' is {rcf_business_type_id}\")"
   ]
  },
  {
   "cell_type": "markdown",
   "id": "4e570caf",
   "metadata": {},
   "source": [
    "3. Update the new restaurant with the `BusinessTypeID` you found."
   ]
  },
  {
   "cell_type": "code",
   "execution_count": 14,
   "id": "7f599f3d",
   "metadata": {},
   "outputs": [
    {
     "data": {
      "text/plain": [
       "UpdateResult({'n': 1, 'nModified': 1, 'ok': 1.0, 'updatedExisting': True}, acknowledged=True)"
      ]
     },
     "execution_count": 14,
     "metadata": {},
     "output_type": "execute_result"
    }
   ],
   "source": [
    "# Update the new restaurant with the correct BusinessTypeID\n",
    "# The set action we need to run to set the BusinessTypeID of 'Penang Flavours' to the correct value\n",
    "btid_set_action = {\"$set\" : {\"BusinessTypeID\" : 1}}\n",
    "\n",
    "# Running the actual 'update' command on the collection. The 'confirmation_query' dict is defined above and is used to find the business with the \"BusinessName\" of \"Penang Flavours\"\n",
    "estab.update_one(confirmation_query, btid_set_action)"
   ]
  },
  {
   "cell_type": "code",
   "execution_count": 15,
   "id": "a6ad16f7",
   "metadata": {},
   "outputs": [
    {
     "name": "stdout",
     "output_type": "stream",
     "text": [
      "{'AddressLine1': 'Penang Flavours',\n",
      " 'AddressLine2': '146A Plumstead Rd',\n",
      " 'AddressLine3': 'London',\n",
      " 'AddressLine4': '',\n",
      " 'BusinessName': 'Penang Flavours',\n",
      " 'BusinessType': 'Restaurant/Cafe/Canteen',\n",
      " 'BusinessTypeID': 1,\n",
      " 'Distance': 4623.972328074718,\n",
      " 'LocalAuthorityCode': '511',\n",
      " 'LocalAuthorityEmailAddress': 'health@royalgreenwich.gov.uk',\n",
      " 'LocalAuthorityName': 'Greenwich',\n",
      " 'LocalAuthorityWebSite': 'http://www.royalgreenwich.gov.uk',\n",
      " 'NewRatingPending': True,\n",
      " 'Phone': '',\n",
      " 'PostCode': 'SE18 7DY',\n",
      " 'RightToReply': '',\n",
      " 'SchemeType': 'FHRS',\n",
      " '_id': ObjectId('672d1e6886e00e2c32d91de4'),\n",
      " 'geocode': {'latitude': '51.49014200', 'longitude': '0.08384000'},\n",
      " 'scores': {'ConfidenceInManagement': '', 'Hygiene': '', 'Structural': ''}}\n"
     ]
    }
   ],
   "source": [
    "# Confirm that the new restaurant was updated\n",
    "# Finding 'Penang Flavours' with the same query used above\n",
    "update_results = estab.find(confirmation_query)\n",
    "\n",
    "# Printing out the document associated with 'Penang Flavours' in the 'establishments' collection.\n",
    "# We can see that the value for 'BusinessTypeID' has been correctly set to a value of 1\n",
    "for result in update_results:\n",
    "    pprint(result)"
   ]
  },
  {
   "cell_type": "markdown",
   "id": "67281254",
   "metadata": {},
   "source": [
    "4. The magazine is not interested in any establishments in Dover, so check how many documents contain the Dover Local Authority. Then, remove any establishments within the Dover Local Authority from the database, and check the number of documents to ensure they were deleted."
   ]
  },
  {
   "cell_type": "code",
   "execution_count": 16,
   "id": "768474a6",
   "metadata": {},
   "outputs": [
    {
     "name": "stdout",
     "output_type": "stream",
     "text": [
      "There are 994 documents that have the LocalAuthorityName set to 'Dover'\n"
     ]
    }
   ],
   "source": [
    "# Find how many documents have LocalAuthorityName as \"Dover\"\n",
    "# A query that will output all of the documents that have their 'LocalAuthorityName' field set to 'Dover\n",
    "dover_query = {\"LocalAuthorityName\" : \"Dover\"}\n",
    "\n",
    "# This is a function that will find how many documents in the 'establishments' collection have their 'LocalAuthorityName' field set to 'Dover', then prints out the result\n",
    "def dover_count_finder():\n",
    "    dover_count = estab.count_documents(dover_query)\n",
    "    print(f\"There are {dover_count} documents that have the LocalAuthorityName set to 'Dover'\")\n",
    "\n",
    "dover_count_finder()"
   ]
  },
  {
   "cell_type": "code",
   "execution_count": 17,
   "id": "a11d5f1b",
   "metadata": {},
   "outputs": [
    {
     "data": {
      "text/plain": [
       "DeleteResult({'n': 994, 'ok': 1.0}, acknowledged=True)"
      ]
     },
     "execution_count": 17,
     "metadata": {},
     "output_type": "execute_result"
    }
   ],
   "source": [
    "# Delete all documents where LocalAuthorityName is \"Dover\"\n",
    "estab.delete_many(dover_query)"
   ]
  },
  {
   "cell_type": "code",
   "execution_count": null,
   "id": "2a51aba0",
   "metadata": {},
   "outputs": [
    {
     "name": "stdout",
     "output_type": "stream",
     "text": [
      "There are 0 documents that have the LocalAuthorityName set to 'Dover'\n"
     ]
    }
   ],
   "source": [
    "# Check if any remaining documents include Dover\n",
    "# Printing out the number of documents in the 'establishments' collection that have their 'LocalAuthorityName' field set to 'Dover' \n",
    "# using the function that we defined above.\n",
    "dover_count_finder()"
   ]
  },
  {
   "cell_type": "code",
   "execution_count": 20,
   "id": "8c356f7b",
   "metadata": {},
   "outputs": [
    {
     "name": "stdout",
     "output_type": "stream",
     "text": [
      "{'AddressLine1': 'Wear Bay Road',\n",
      " 'AddressLine2': 'Folkestone',\n",
      " 'AddressLine3': 'Kent',\n",
      " 'AddressLine4': '',\n",
      " 'BusinessName': 'Wear Bay Bowls Club',\n",
      " 'BusinessType': 'Pub/bar/nightclub',\n",
      " 'BusinessTypeID': 7843,\n",
      " 'ChangesByServerID': 0,\n",
      " 'Distance': 4591.821311183521,\n",
      " 'FHRSID': 647177,\n",
      " 'LocalAuthorityBusinessID': 'PI/000041489',\n",
      " 'LocalAuthorityCode': '188',\n",
      " 'LocalAuthorityEmailAddress': 'foodteam@folkestone-hythe.gov.uk',\n",
      " 'LocalAuthorityName': 'Folkestone and Hythe',\n",
      " 'LocalAuthorityWebSite': 'http://www.folkestone-hythe.gov.uk',\n",
      " 'NewRatingPending': False,\n",
      " 'Phone': '',\n",
      " 'PostCode': 'CT19 6PY',\n",
      " 'RatingDate': '2014-03-31T00:00:00',\n",
      " 'RatingKey': 'fhrs_4_en-gb',\n",
      " 'RatingValue': '4',\n",
      " 'RightToReply': '',\n",
      " 'SchemeType': 'FHRS',\n",
      " '_id': ObjectId('672d1cdb4224ba1cf5a0b453'),\n",
      " 'geocode': {'latitude': 51.086058, 'longitude': 1.196408},\n",
      " 'links': [{'href': 'https://api.ratings.food.gov.uk/establishments/647177',\n",
      "            'rel': 'self'}],\n",
      " 'meta': {'dataSource': None,\n",
      "          'extractDate': '0001-01-01T00:00:00',\n",
      "          'itemCount': 0,\n",
      "          'pageNumber': 0,\n",
      "          'pageSize': 0,\n",
      "          'returncode': None,\n",
      "          'totalCount': 0,\n",
      "          'totalPages': 0},\n",
      " 'scores': {'ConfidenceInManagement': 10, 'Hygiene': 5, 'Structural': 5}}\n"
     ]
    }
   ],
   "source": [
    "# Check that other documents remain with 'find_one'\n",
    "find_one_output = estab.find_one()\n",
    "pprint(find_one_output)"
   ]
  },
  {
   "attachments": {},
   "cell_type": "markdown",
   "id": "e9f1662d",
   "metadata": {},
   "source": [
    "5. Some of the number values are stored as strings, when they should be stored as numbers."
   ]
  },
  {
   "attachments": {},
   "cell_type": "markdown",
   "id": "c46df2df",
   "metadata": {},
   "source": [
    "Use `update_many` to convert `latitude` and `longitude` to decimal numbers."
   ]
  },
  {
   "cell_type": "code",
   "execution_count": 19,
   "id": "fd4112ce",
   "metadata": {},
   "outputs": [
    {
     "data": {
      "text/plain": [
       "UpdateResult({'n': 38786, 'nModified': 38786, 'ok': 1.0, 'updatedExisting': True}, acknowledged=True)"
      ]
     },
     "execution_count": 19,
     "metadata": {},
     "output_type": "execute_result"
    }
   ],
   "source": [
    "# Change the data type from String to Decimal for longitude and latitude\n",
    "# We do not need to filter the documents that we will be updating, so our 'query' value is empty\n",
    "lat_lon_query = {}\n",
    "\n",
    "# This action will set the 'latitude' and 'longitude' values stored in the 'geocode' list of the documents in the 'establishments' collection\n",
    "# to be doubles instead of strings\n",
    "lat_lon_set_action = [\n",
    "    {\"$set\" : {\n",
    "            \"geocode.latitude\" : { \"$toDouble\" : \"$geocode.latitude\" },\n",
    "            \"geocode.longitude\" : { \"$toDouble\" : \"$geocode.longitude\" }\n",
    "        }\n",
    "    }\n",
    "]\n",
    "\n",
    "# Updating all of the documents in the collection using the query and set action defined above.\n",
    "estab.update_many(lat_lon_query, lat_lon_set_action)"
   ]
  },
  {
   "attachments": {},
   "cell_type": "markdown",
   "id": "142e319c",
   "metadata": {},
   "source": [
    "Use `update_many` to convert `RatingValue` to integer numbers."
   ]
  },
  {
   "cell_type": "code",
   "execution_count": 21,
   "id": "04430a5b",
   "metadata": {},
   "outputs": [
    {
     "data": {
      "text/plain": [
       "UpdateResult({'n': 4091, 'nModified': 4091, 'ok': 1.0, 'updatedExisting': True}, acknowledged=True)"
      ]
     },
     "execution_count": 21,
     "metadata": {},
     "output_type": "execute_result"
    }
   ],
   "source": [
    "# Set non 1-5 Rating Values to Null\n",
    "non_ratings = [\"AwaitingInspection\", \"Awaiting Inspection\", \"AwaitingPublication\", \"Pass\", \"Exempt\"]\n",
    "estab.update_many({\"RatingValue\": {\"$in\": non_ratings}}, [ {'$set':{ \"RatingValue\" : None}} ])"
   ]
  },
  {
   "cell_type": "code",
   "execution_count": 23,
   "id": "92524ccc",
   "metadata": {},
   "outputs": [
    {
     "data": {
      "text/plain": [
       "UpdateResult({'n': 38786, 'nModified': 34695, 'ok': 1.0, 'updatedExisting': True}, acknowledged=True)"
      ]
     },
     "execution_count": 23,
     "metadata": {},
     "output_type": "execute_result"
    }
   ],
   "source": [
    "# Change the data type from String to Integer for RatingValue\n",
    "# We do not need to filter the documents that we will be updating, so our 'query' value is empty\n",
    "rating_val_query = {}\n",
    "\n",
    "# This action will set the 'RatingValue' field in all documents in the 'establishments' collection to Int values instead of String values\n",
    "rating_val_set_action = [\n",
    "    {\"$set\" : {\n",
    "            \"RatingValue\" : { \"$toInt\" : \"$RatingValue\" },\n",
    "        }\n",
    "    }\n",
    "]\n",
    "\n",
    "# Updating all applicable documents using the query and set action dicts defined above.\n",
    "estab.update_many(rating_val_query, rating_val_set_action)"
   ]
  },
  {
   "cell_type": "code",
   "execution_count": 24,
   "id": "0deacaf9",
   "metadata": {},
   "outputs": [
    {
     "data": {
      "text/plain": [
       "{'_id': ObjectId('672d1cdb4224ba1cf5a0b453'),\n",
       " 'RatingValue': 4,\n",
       " 'geocode': {'longitude': 1.196408, 'latitude': 51.086058}}"
      ]
     },
     "execution_count": 24,
     "metadata": {},
     "output_type": "execute_result"
    }
   ],
   "source": [
    "# Check that the coordinates and rating value are now numbers\n",
    "# Printing out a document in the 'establishments' collection to see if the 'RatingValue' and 'geocode.longitude/geocode.latitude' values have\n",
    "# actually been updated and set tot the correct types (Double for latitude / longitude, and Int for RatingValue)\n",
    "estab.find_one({}, {\"geocode.latitude\" : 1, \"geocode.longitude\" : 1, \"RatingValue\" : 1})"
   ]
  }
 ],
 "metadata": {
  "kernelspec": {
   "display_name": "base",
   "language": "python",
   "name": "python3"
  },
  "language_info": {
   "codemirror_mode": {
    "name": "ipython",
    "version": 3
   },
   "file_extension": ".py",
   "mimetype": "text/x-python",
   "name": "python",
   "nbconvert_exporter": "python",
   "pygments_lexer": "ipython3",
   "version": "3.11.7"
  }
 },
 "nbformat": 4,
 "nbformat_minor": 5
}
